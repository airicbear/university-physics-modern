{
 "cells": [
  {
   "cell_type": "markdown",
   "metadata": {},
   "source": [
    "# Section 1.4 Using and Converting Units"
   ]
  },
  {
   "cell_type": "markdown",
   "metadata": {},
   "source": [
    "1.1 1 in. = 2.54 cm; (a) Find km in 1 mi, (b) ft in 1 km\n",
    "\n",
    "a)\n",
    "\n",
    "$$\\begin{align}\n",
    "1~\\text{mile} &= 1~\\text{mile} \\left(\\frac{5280~\\text{ft}}{1~\\text{mile}}\\right) \\left(\\frac{12~\\text{in}}{1~\\text{ft}}\\right) \\left(\\frac{2.54~\\text{cm}}{1~\\text{in}}\\right) \\left(\\frac{1~\\text{m}}{100~\\text{cm}}\\right) \\left(\\frac{1~\\text{km}}{1000~\\text{m}}\\right) \\\\\n",
    "&= 1.609344~\\text{km}\n",
    "\\end{align}$$"
   ]
  },
  {
   "cell_type": "code",
   "execution_count": 2,
   "metadata": {},
   "outputs": [
    {
     "data": {
      "text/plain": [
       "1.609344"
      ]
     },
     "execution_count": 2,
     "metadata": {},
     "output_type": "execute_result"
    }
   ],
   "source": [
    "mi_to_ft(x) = x * 5280\n",
    "ft_to_in(x) = x * 12\n",
    "in_to_cm(x) = x * 2.54\n",
    "cm_to_m(x) = x / 100\n",
    "m_to_km(x) = x / 1000\n",
    "\n",
    "miles = 1\n",
    "feet = mi_to_ft(miles)\n",
    "inches = ft_to_in(feet)\n",
    "cm = in_to_cm(inches)\n",
    "m = cm_to_m(cm)\n",
    "km = m_to_km(m)"
   ]
  },
  {
   "cell_type": "markdown",
   "metadata": {},
   "source": [
    "b)\n",
    "\n",
    "$$\\begin{align}\n",
    "1~\\text{km} &= 1~\\text{km} \\left(\\frac{1000~\\text{m}}{1~\\text{km}}\\right) \\left(\\frac{100~\\text{cm}}{1~\\text{m}}\\right) \\left(\\frac{1~\\text{in}}{2.54~\\text{cm}}\\right) \\left(\\frac{1~\\text{ft}}{12~\\text{in}}\\right) \\\\\n",
    "&\\approx 3280.8399~\\text{ft}\n",
    "\\end{align}$$"
   ]
  },
  {
   "cell_type": "code",
   "execution_count": 5,
   "metadata": {},
   "outputs": [
    {
     "data": {
      "text/plain": [
       "3280.839895013123"
      ]
     },
     "execution_count": 5,
     "metadata": {},
     "output_type": "execute_result"
    }
   ],
   "source": [
    "km_to_m(x) = x * 1000\n",
    "m_to_cm(x) = x * 100\n",
    "cm_to_in(x) = x / 2.54\n",
    "in_to_ft(x) = x / 12\n",
    "\n",
    "km = 1\n",
    "m = km_to_m(km)\n",
    "cm = m_to_cm(m)\n",
    "inches = cm_to_in(cm)\n",
    "feet = in_to_ft(inches)"
   ]
  }
 ],
 "metadata": {
  "kernelspec": {
   "display_name": "Julia 1.1.0",
   "language": "julia",
   "name": "julia-1.1"
  },
  "language_info": {
   "file_extension": ".jl",
   "mimetype": "application/julia",
   "name": "julia",
   "version": "1.1.0"
  }
 },
 "nbformat": 4,
 "nbformat_minor": 2
}
