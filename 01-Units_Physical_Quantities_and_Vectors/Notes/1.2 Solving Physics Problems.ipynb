{
 "cells": [
  {
   "cell_type": "markdown",
   "metadata": {},
   "source": [
    "# 1.2 Solving Physics Problems"
   ]
  },
  {
   "cell_type": "markdown",
   "metadata": {},
   "source": [
    "You don't *know* physics unless you can *do* physics."
   ]
  },
  {
   "cell_type": "markdown",
   "metadata": {},
   "source": [
    "## Problem-Solving Strategy 1.1 | Solving Physics Problems\n",
    "\n",
    "### ***I SEE***&mdash;*Identify*, *Set up*, *Execute*, and *Evaluate*.\n",
    "\n",
    "- IDENTIFY *the relevant concepts*\n",
    "\n",
    "    - Identify **target variables**&mdash;the quantities that you're trying to find (e.g. speed at which a projectile hits the ground)\n",
    "    \n",
    "    - Identify known quantities, as stated or implied in the problem\n",
    "\n",
    "- SET UP *the problem*\n",
    "\n",
    "    - Choose the right equations\n",
    "    \n",
    "    - Ensure that the identified variables correlate exactly with those equations\n",
    "    \n",
    "    - If appropriate, draw a sketch of the situation described in the problem\n",
    "    \n",
    "    - As best you can, estimate what your results will be\n",
    "    \n",
    "    - As appropriate, predict what the physical behavior of a system will be\n",
    "\n",
    "- EXECUTE *the solution*\n",
    "\n",
    "    - Do the math\n",
    "    \n",
    "\n",
    "- EVALUATE *your answer*\n",
    "\n",
    "    - Compare your answer with your estimates \n",
    "    \n",
    "    - If your answer includes an algebraic expression, assure yourself that it correctly represents what would happen if the variables in it had very large or very small values\n",
    "    \n",
    "    - For future reference, make note of any answer that represents a quantity of particular signifcance\n",
    "    \n",
    "    - Ask yourself how you might answer a more general or more difficult version of the problem you have just solved"
   ]
  },
  {
   "cell_type": "markdown",
   "metadata": {},
   "source": [
    "## Idealized Models\n",
    "\n",
    "- In physics a **model** is a simplified version of a physical system that would be too complicated to analyze in full detail\n",
    "\n",
    "    - E.g. Suppose we want to analyze the motion of a thrown baseball. It would be far too complicated to account for all of the little things, such as its imperfect shape or wind influence.\n",
    "\n",
    "        - We ignore the size and shape of the ball by representing it as a point object, or **particle**\n",
    "        \n",
    "        - We ignore air resistance by making the ball move in a vacuum, and we make the weight constant\n",
    "\n",
    "- It is important to not neglect too many things in an idealized model\n",
    "\n",
    "    - E.g. If we ignore the effects of gravity completely, then our model predicts that when we throw the ball up, it will go in a straight line and disappear into space\n",
    "\n",
    "    - A useful model simplifies a problem enough to make it manageable, yet keeps its essential features\n",
    "    \n",
    "- The validity of the predictions we make using a model is limited by the validity of the model\n",
    "\n",
    "    - E.g. Galileo's prediction about falling objects corresponds to an idealized model that does not  include the effects of air resistance. This model works fairly well for a dropped cannonball, but not so well for a feather."
   ]
  }
 ],
 "metadata": {
  "kernelspec": {
   "display_name": "Julia 1.1.0",
   "language": "julia",
   "name": "julia-1.1"
  },
  "language_info": {
   "file_extension": ".jl",
   "mimetype": "application/julia",
   "name": "julia",
   "version": "1.1.0"
  }
 },
 "nbformat": 4,
 "nbformat_minor": 2
}
