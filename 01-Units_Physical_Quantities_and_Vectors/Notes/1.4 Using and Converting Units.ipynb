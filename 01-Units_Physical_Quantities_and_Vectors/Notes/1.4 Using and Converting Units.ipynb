{
 "cells": [
  {
   "cell_type": "markdown",
   "metadata": {},
   "source": [
    "# 1.4 Using and Converting Units"
   ]
  },
  {
   "cell_type": "markdown",
   "metadata": {},
   "source": [
    "- We use algebraic relationships among physical quantities, represented by algebraic symbols\n",
    "\n",
    "    - Each algebraic symbol denotes both a number and a unit\n",
    "\n",
    "        - E.g. $d$ might represent a distance of 10 m, $t$ a time of 5 s, and $v$ a speed of 2 m/s.\n",
    "\n",
    "\n",
    "- An equation must always be **dimensionally consistent**\n",
    "\n",
    "    - I.e. you can't add apples and automobiles; two terms may be added or equated only if they have the same units\n",
    "    \n",
    "        - E.g. if a body moving with constant speed $v$ travels a distance $d$ in a time $t$, these quantities are related by the equation\n",
    "        \n",
    "        $$d = vt$$\n",
    "        \n",
    "        If $d$ is measured in meters, the the product $vt$ must also be expressed in meters\n",
    "        \n",
    "        Using the above numbers as an example, we may write\n",
    "        \n",
    "        $$10~\\text{m} = \\left(2~\\frac{\\text{m}}{\\color{gray}{\\text{s}}}\\right)(5~\\color{gray}{\\text{s}})$$\n",
    "        \n",
    "        Because the unit $s$ in the denominator of m/s cancels, the product has units of meters, as it must"
   ]
  },
  {
   "cell_type": "markdown",
   "metadata": {},
   "source": [
    "## Problem-Solving Strategy 1.2 | Solving Physics Problems\n",
    "\n",
    "- IDENTIFY *the relevant concepts*\n",
    "\n",
    "    - In most cases it's best to use the fundamental SI units\n",
    "    \n",
    "    - If you need the answer to be in a different set of units, wait until the end of the problem to make the conversion\n",
    "\n",
    "- SET UP *the problem* and EXECUTE *the solution*\n",
    "\n",
    "    - Units are multiplied and divided just like ordinary symbols\n",
    "    \n",
    "    - Express the same physical quality in two different units and form an equality\n",
    "    \n",
    "    - E.g. when we say that $1~\\text{min} = 60~\\text{s}$, we don't mean that the number 1 is equal to the number 60; rather, we mean that $1~\\text{min}$ represents the same physical time interval as $60~\\text{s}$\n",
    "    \n",
    "        - For this reason, the ratio $(1~\\text{min})/(60~\\text{s})$ equals 1, as does its reciprocal, $(60~\\text{s})/(1~\\text{min})$\n",
    "        \n",
    "    - We may multiply a quantity by either of these factors (which we call *unit multipliers*) without changing that quantity's physical meaning\n",
    "    \n",
    "        - E.g. to find the number of seconds in 3 min, we write\n",
    "    \n",
    "        $$3~\\text{min} = (3~\\color{gray}{\\text{min}})\\left(\\frac{60~\\text{s}}{1~\\color{gray}{\\text{min}}}\\right) = 180~\\text{s}$$\n",
    "\n",
    "- EVALUATE *your answer*\n",
    "\n",
    "    - If you do your unit conversions correctly, unwanted units will cancel, as in the example above\n",
    "    \n",
    "    - To be sure you convert units properly, include the units at *all* stages of the calculation\n",
    "    \n",
    "    - Finally, check whether your answer is reasonable\n",
    "    \n",
    "        - E.g. the result $3~\\text{min} = 180~\\text{s}$ is reasonable because the second is a smaller unit than the minute, so there are more seconds than minutes in the same time interval"
   ]
  },
  {
   "cell_type": "markdown",
   "metadata": {},
   "source": [
    "## Example 1.1 Converting Speed Units\n",
    "\n",
    "The world land speed record of 763.0 mi/h was set on October 15, 1997, by Andy Green in the jet-engine car *Thrust SSC*. Express this speed in meters per second.\n",
    "\n",
    "**Solution**\n",
    "\n",
    "IDENTIFY, SET UP, and EXECUTE:\n",
    "\n",
    "- We need to convert the units of a speed from mi/h to m/s. We must therefore find unit multipliers that relate (i) miles to meters and (ii) hours to seconds. In Appendix E we find the equalities 1 mi = 1.609 km, 1 km = 1000 m and 1 h = 3600 s. We set up the conversion as follows, which ensures that all the desired cancellations by division take place:\n",
    "\n",
    "$$\\begin{align}763.0~\\text{mi/h} &= \n",
    "\\left(763.0~\\color{gray}{\\frac{\\text{mi}}{\\text{h}}}\\right)\n",
    "\\left(\\frac{1.609~\\color{gray}{\\text{km}}}{1~\\color{gray}{\\text{mi}}}\\right)\n",
    "\\left(\\frac{1000~\\text{m}}{1~\\color{gray}{\\text{km}}}\\right)\n",
    "\\left(\\frac{\\color{gray}{1~\\text{h}}}{3600~\\text{s}}\\right) \\\\\n",
    "&= 341.0~\\text{m/s}\\end{align}$$\n",
    "\n",
    "EVALUATE: This example shows a useful rule of thumb: A speed is expressed in m/s is a bit less than half the value expressed in mi/h, and a bit less than one-third the value expressed in km/h.\n",
    "\n",
    "- E.g. a normal freeway speed is about 30 m/s = 67 mi/h = 108 km/h, and a typical walking speed is about 1.4 m/s = 3.1 mi/h = 5.0 km/h"
   ]
  },
  {
   "cell_type": "code",
   "execution_count": 2,
   "metadata": {},
   "outputs": [
    {
     "data": {
      "text/plain": [
       "(341.0186111111111, 1)"
      ]
     },
     "execution_count": 2,
     "metadata": {},
     "output_type": "execute_result"
    }
   ],
   "source": [
    "# Example 1.1 Converting Speed Units\n",
    "\n",
    "mi_to_km(x) = x * 1.609\n",
    "km_to_m(x) = x * 1000\n",
    "h_to_s(x) = x * 3600\n",
    "\n",
    "speed_mph = (763.0, 1) # mi/h\n",
    "distance_m = km_to_m(mi_to_km(speed_mph[1])) # mi -> km -> m\n",
    "time_s = h_to_s(speed_mph[2]) # h -> s\n",
    "speed_ms = (distance_m / time_s, 1) # m/s"
   ]
  },
  {
   "cell_type": "markdown",
   "metadata": {},
   "source": [
    "## Example 1.2 Converting Volume Units\n",
    "\n",
    "One of the world's largest cut diamonds is the First Star of Africa (mounted in the British Royal Sceptre and kept in the Tower of London). Its volume is 1.84 cubic inches. What is its volume in cubic centimeters? In cubic meters?\n",
    "\n",
    "**Solution**\n",
    "\n",
    "IDENTIFY, SET UP, and EXECUTE: Here we are to convert the units of a volume from cubic inches ($\\text{in}^3$) to both cubic centimeters and cubic meters ($\\text{m}^3$). Appendix E gives us the equality $1~\\text{in.} = 2.540~\\text{cm}$, from which we obtain $1~\\text{in.}^3 = (2.54~\\text{cm})^3$. We then have\n",
    "\n",
    "$$\\begin{align}\n",
    "1.84~\\text{in.}^3 &= \\left(1.84~\\text{in.}^3\\right)\\left(\\frac{2.54~\\text{cm}}{1~\\text{in.}}\\right)^3 \\\\\n",
    "&= (1.84)(2.54)^3~\\frac{\\color{gray}{\\text{in.}^3}~\\text{cm}^3}{\\color{gray}{\\text{in.}^3}} = 30.2~\\text{cm}^3\n",
    "\\end{align}$$\n",
    "\n",
    "Appendix E also gives us $1~\\text{m} = 100~\\text{cm}$, so\n",
    "\n",
    "$$\\begin{align}\n",
    "30.2~\\text{cm}^3 &= \\left(30.2~\\text{cm}^3\\right)\\left(\\frac{1~\\text{m}}{100~\\text{cm}}\\right)^3 \\\\\n",
    "&= (30.2)\\left(\\frac{1}{100}\\right)^3~\\frac{\\color{gray}{\\text{cm}^3}~\\text{m}^3}{\\color{gray}{\\text{cm}^3}} = 30.2 \\times 10^{-6}~\\text{m}^3 \\\\\n",
    "&= 3.02 \\times 10^{-5}~\\text{m}^3\n",
    "\\end{align}$$\n",
    "\n",
    "EVALUATE: Following the pattern of these conversions, can you show that $1~\\text{in.}^3 \\approx 16~\\text{cm}^3$ and that $1~\\text{m}^3 \\approx 60,000~\\text{in.}^3$?"
   ]
  },
  {
   "cell_type": "code",
   "execution_count": 9,
   "metadata": {},
   "outputs": [
    {
     "data": {
      "text/plain": [
       "(30.15219776, 3.0152197760000004e-5)"
      ]
     },
     "execution_count": 9,
     "metadata": {},
     "output_type": "execute_result"
    }
   ],
   "source": [
    "# Example 1.2 Converting Volume Units\n",
    "\n",
    "in3_to_cm3(x) = x * 2.540 ^ 3\n",
    "cm3_to_m3(x) = x * (1 / 100) ^ 3\n",
    "\n",
    "volume_in3 = 1.84\n",
    "volume_cm3 = in3_to_cm3(volume_in3)\n",
    "volume_m3 = cm3_to_m3(volume_cm3)\n",
    "\n",
    "(volume_cm3, volume_m3)"
   ]
  }
 ],
 "metadata": {
  "kernelspec": {
   "display_name": "Julia 1.1.0",
   "language": "julia",
   "name": "julia-1.1"
  },
  "language_info": {
   "file_extension": ".jl",
   "mimetype": "application/julia",
   "name": "julia",
   "version": "1.1.0"
  }
 },
 "nbformat": 4,
 "nbformat_minor": 2
}
