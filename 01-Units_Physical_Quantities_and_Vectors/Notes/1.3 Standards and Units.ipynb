{
 "cells": [
  {
   "cell_type": "markdown",
   "metadata": {},
   "source": [
    "# 1.3 Standards and Units"
   ]
  },
  {
   "cell_type": "markdown",
   "metadata": {},
   "source": [
    "- Experiments require measurements\n",
    "\n",
    "- We generally use numbers to describe the results of measurements\n",
    "\n",
    "- Any number that is used to describe a physical phenomenon quantitatively is called a **physical quantity**\n",
    "\n",
    "    - E.g. weight and height\n",
    "\n",
    "\n",
    "- An **operational definition** is a description of how a fundamental physical quantity is measured\n",
    "\n",
    "    - E.g. measuring distance by using a ruler and measuring a time interval by using a stopwatch\n",
    "\n",
    "\n",
    "- In other cases, we define a physical quantity by describing how to calculate it from other quantities that we *can* measure\n",
    "\n",
    "    - E.g. we might define the average speed of a moving object as the distance traveled (measured with a ruler) divided by the time of travel (measured with a stopwatch)\n",
    "\n",
    "- When we measure a quantity, we always compare it with some reference standard\n",
    "\n",
    "    - E.g. when we say that a Ferrari 458 is 4.53 meters long, we mean that it is 4.53 times as long as a meter stick, which we define to be 1 meter long\n",
    "    \n",
    "    - Such a standard defines a **unit** of the quantity\n",
    "    \n",
    "        - E.g. the meter is a unit of distance, and the second is a unit of time\n",
    "\n",
    "\n",
    "- When we use a number to describe a physical quantity, we must always specify the unit that we are using\n",
    "\n",
    "    - E.g. to describe a distance as simply \"4.53\" wouldn't mean anything\n",
    "\n",
    "\n",
    "- To make accurate, reliable measurements, we need units of measurement that do not change and that can be duplicated by observers in various locations\n",
    "\n",
    "    - The system of units used by scientists and engineers around the world is commonly called \"the metric system,\" but since 1960 it has been known officially as the **International System**, or **SI** (the abbreviation for its French name, *Système International*)"
   ]
  },
  {
   "cell_type": "markdown",
   "metadata": {},
   "source": [
    "### Time\n",
    "\n",
    "- From 1889 until 1967, the unit of time was defined as a certain fraction of the mean solar day, the average time between successive arrivals of the sun at its highest point in the sky\n",
    "\n",
    "- The present standard, adopted in 1967, is much more precise. It is based on an atomic clock, which uses the energy difference between the two lowest energy states of the cesium atom ($^{133}\\text{Cs}$)\n",
    "\n",
    "    - When bombarded by microwaves of precisely the proper frequency, cesium atoms undergo a transition from one of these states to the other\n",
    "    \n",
    "        - One **second** (abbreviated s) is defined as the time required for 9,192,631,770 cycles f this microwave radiation"
   ]
  },
  {
   "cell_type": "markdown",
   "metadata": {},
   "source": [
    "## Length\n",
    "\n",
    "- In 1960 an atomic standard for the meter was also established, using the wavelength of the orange-red light emitted by excited atoms of krypton ($^{86}\\text{Kr}$)\n",
    "\n",
    "    - From this length standard, the speed of light in vacuum was measured to be 299,792,458 m/s\n",
    "\n",
    "\n",
    "- In November 1983, the length standard was changed again so that the speed of light in vacuum was *defined* to be precisely 299,792,458 m/s\n",
    "\n",
    "- Hence, the new definition of the **meter** (abbreviated m) is the distance that light travels in vacuum in 1/299,792,458 second\n",
    "\n",
    "    - This modern definition provides a much more precise standard of length than the one based on a wavelength of light"
   ]
  },
  {
   "cell_type": "markdown",
   "metadata": {},
   "source": [
    "## Mass\n",
    "\n",
    "- The standard of mass, the **kilogram** (abbreviated kg), is defined to be the mass of a particular cylinder of platinum&ndash;iridium alloy kept at the International Bureau of Weights and Measures at Sèvres, near Paris\n",
    "\n",
    "    - An atomic standard of mass would be more fundamental, but at present we cannot measure masses on an atomic scale with as much accuracy as on a macroscopic scale\n",
    "\n",
    "    - The *gram* (which is not a fundamental unit) is 0.001 kilogram\n",
    "\n",
    "- Other *derived units* can be formed from the fundamental units\n",
    "\n",
    "    - E.g. the units of speed are meters per second, or m/s; these are the units of length (m) divided by the units of time (s)"
   ]
  },
  {
   "cell_type": "markdown",
   "metadata": {},
   "source": [
    "## Unit Prefixes\n",
    "\n",
    "- Once we have defined the fundamental units, it is easy to introduce larger and smaller units for the same physical quantities\n",
    "\n",
    "    - In the metric system these other units are related to the fundamental units (or, in the case of mass, to the gram) by multiples of 10 or $\\frac{1}{10}$\n",
    "    \n",
    "        - Thus one kilometer (1 km) is 1000 meters, and one centimeter is (1 cm) is $\\frac{1}{100}$ meter\n",
    "    \n",
    "        - We usually express multiples of 10 or $\\frac{1}{10}$ in exponential notation: $1000 = 10^3, \\frac{1}{1000} = 10^{-3}$\n",
    "        \n",
    "            - With this notation, $1 \\text{ km} = 10^3 \\text{ m}$ and $1 \\text{ cm} = 10^{-2} \\text{ m}$\n",
    "\n",
    "\n",
    "- The names of the additional units are derived by adding a **prefix** to the name of the fundamental unit\n",
    "\n",
    "    - E.g. the prefix \"kilo-\", abbreviated k, always means the unit larger by a factor of 1000; thus\n",
    "    \n",
    "$$\\begin{align}\n",
    "1 \\text{ kilometer} = 1 \\text{ km} &= 10^3 \\text{ meters} = 10^3 \\text{ m} \\\\\n",
    "1 \\text{ kilogram} = 1 \\text{ kg} &= 10^3 \\text{ grams} = 10^3 \\text{ g} \\\\\n",
    "1 \\text{ kilowatt} = 1 \\text{ kW} &= 10^3 \\text{ watts} = 10^3 \\text{ W} \\\\\n",
    "\\end{align}$$"
   ]
  },
  {
   "cell_type": "markdown",
   "metadata": {},
   "source": [
    "## The British System\n",
    "\n",
    "- *Length*: 1 inch = 2.54 cm (exactly)\n",
    "\n",
    "- *Force*: 1 pound = 4.448221615260 newtons (exactly)\n",
    "\n",
    "- British units are only used in mechanics and thermodynamics"
   ]
  }
 ],
 "metadata": {
  "kernelspec": {
   "display_name": "Julia 1.1.0",
   "language": "julia",
   "name": "julia-1.1"
  },
  "language_info": {
   "file_extension": ".jl",
   "mimetype": "application/julia",
   "name": "julia",
   "version": "1.1.0"
  }
 },
 "nbformat": 4,
 "nbformat_minor": 2
}
