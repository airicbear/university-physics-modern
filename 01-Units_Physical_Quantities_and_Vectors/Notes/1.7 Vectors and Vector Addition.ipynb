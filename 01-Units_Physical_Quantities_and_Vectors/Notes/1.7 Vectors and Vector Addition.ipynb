{
 "cells": [
  {
   "cell_type": "markdown",
   "metadata": {},
   "source": [
    "# 1.7 Vectors and Vector Addition"
   ]
  },
  {
   "cell_type": "markdown",
   "metadata": {},
   "source": [
    "- Velocity = <speed, direction>\n",
    "\n",
    "- Force = <force, direction>"
   ]
  },
  {
   "cell_type": "markdown",
   "metadata": {},
   "source": [
    "Physical quantities can be described as\n",
    "\n",
    "- **scalar quantity** = single number\n",
    "\n",
    "    - E.g. 6 kg\n",
    "    \n",
    "\n",
    "- **vector quantity** = <magnitude, direction>"
   ]
  },
  {
   "cell_type": "markdown",
   "metadata": {},
   "source": [
    "**displacement**, the simplest vector quantity, is the change in position of an object\n",
    "\n",
    "- E.g. 3 km north is not the same as 3 km south because the direction is different"
   ]
  },
  {
   "cell_type": "markdown",
   "metadata": {},
   "source": [
    "Vectors are usually denoted with a single letter such as $\\vec{A}$"
   ]
  },
  {
   "cell_type": "markdown",
   "metadata": {},
   "source": [
    "Vectors are drawn as lines with arrowheads at its tip\n",
    "\n",
    "- The length of the line shows the vector's magnitude\n",
    "\n",
    "- The direction of the arrowhead shows the vector's direction"
   ]
  },
  {
   "cell_type": "markdown",
   "metadata": {},
   "source": [
    "Two vectors are **parallel** if they have the same direction\n",
    "\n",
    "Two vectors with the same magnitude and direction are equal, regardless of their starting points\n",
    "\n",
    "- Denoted $\\vec{A'} = \\vec{A}$"
   ]
  },
  {
   "cell_type": "markdown",
   "metadata": {},
   "source": [
    "**negative of a vector** = <magnitude, -direction>"
   ]
  },
  {
   "cell_type": "markdown",
   "metadata": {},
   "source": [
    "Two vectors are **antiparallel** if they have opposite directions"
   ]
  },
  {
   "cell_type": "markdown",
   "metadata": {},
   "source": [
    "## Vector Addition and Subtraction"
   ]
  },
  {
   "cell_type": "markdown",
   "metadata": {},
   "source": [
    "When two displacement vectors $\\vec{A}$ and $\\vec{B}$ are added, it may be represented as a single vector $\\vec{C}$ where $\\vec{C} = \\vec{A} + \\vec{B}$. This vector would be considered as the **vector sum** or **resultant** of displacements $\\vec{A}$ and $\\vec{B}$\n",
    "\n",
    "- The commutative law of addition applies to vectors, where $\\vec{A} + \\vec{B} = \\vec{B} + \\vec{A}$\n",
    "\n",
    "- Be careful that the *magnitude* of the resultant $\\vec{C}$ is **not** always the same as the sum of the magnitudes of $\\vec{A}$ and $\\vec{B}$ (think of a triangle's hypotenuse)\n",
    "\n",
    "- When vectors are *antiparallel*, the magnitude of $\\vec{C}$ equals the *difference* of the magnitudes of $\\vec{A}$ and $\\vec{B}$"
   ]
  },
  {
   "cell_type": "markdown",
   "metadata": {},
   "source": [
    "To find the vector sum $\\vec{R}$ of three vectors $\\vec{A} + \\vec{B} + \\vec{C}$, we do the following:\n",
    "\n",
    "1. $\\vec{D} = \\vec{A} + \\vec{B}$\n",
    "\n",
    "2. $\\vec{R} = \\vec{D} + \\vec{C}$\n",
    "\n",
    "Graphically, we would draw $\\vec{A}$, $\\vec{B}$, and $\\vec{C}$ in succession, with the tail of each at the head of the one preceding it and then finding $\\vec{R}$ by drawing a line between the tail of the first vector $\\vec{A}$ and head of the last vector $\\vec{C}$\n",
    "\n",
    "- Note that the associative law applies to vectors\n",
    "\n",
    "    - E.g. $\\left(\\vec{A} + \\vec{B}\\right) + \\vec{C} = \\vec{A} + \\left(\\vec{B} + \\vec{C}\\right)$"
   ]
  },
  {
   "cell_type": "markdown",
   "metadata": {},
   "source": [
    "We can subtract vectors as well as add them\n",
    "\n",
    "- E.g. $\\vec{A} - \\vec{B} = \\vec{A} + \\left(- \\vec{B}\\right)$"
   ]
  },
  {
   "cell_type": "markdown",
   "metadata": {},
   "source": [
    "Vectors can be multiplied by scalars\n",
    "\n",
    "- The product of scalar $c \\cdot \\vec{A}$ is <abs(c) * same_magnitude, same_direction>"
   ]
  },
  {
   "cell_type": "markdown",
   "metadata": {},
   "source": [
    "### Example: Find the resultant of vectors <1 km, N> and <2 km, E>"
   ]
  },
  {
   "cell_type": "code",
   "execution_count": 25,
   "metadata": {},
   "outputs": [
    {
     "data": {
      "text/plain": [
       "2.23606797749979"
      ]
     },
     "execution_count": 25,
     "metadata": {},
     "output_type": "execute_result"
    }
   ],
   "source": [
    "NORTH = 1\n",
    "EAST = 1\n",
    "\n",
    "A = Vector([1, NORTH])\n",
    "B = Vector([2, EAST])\n",
    "\n",
    "# Use Pythagorean theorem to find the resultant magnitude\n",
    "C = sqrt(A[1]^2 + B[1]^2)"
   ]
  },
  {
   "cell_type": "code",
   "execution_count": 30,
   "metadata": {},
   "outputs": [
    {
     "data": {
      "text/plain": [
       "63.43494882292201"
      ]
     },
     "execution_count": 30,
     "metadata": {},
     "output_type": "execute_result"
    }
   ],
   "source": [
    "# Use trigonometry to find the resultant direction\n",
    "adj = A[1]\n",
    "opp = B[1]\n",
    "\n",
    "Φ = rad2deg(atan(opp / adj)) # degrees east of north"
   ]
  },
  {
   "cell_type": "code",
   "execution_count": 31,
   "metadata": {},
   "outputs": [
    {
     "data": {
      "text/plain": [
       "26.56505117707799"
      ]
     },
     "execution_count": 31,
     "metadata": {},
     "output_type": "execute_result"
    }
   ],
   "source": [
    "90 - Φ # degrees north of east"
   ]
  }
 ],
 "metadata": {
  "kernelspec": {
   "display_name": "Julia 1.1.0",
   "language": "julia",
   "name": "julia-1.1"
  },
  "language_info": {
   "file_extension": ".jl",
   "mimetype": "application/julia",
   "name": "julia",
   "version": "1.1.0"
  }
 },
 "nbformat": 4,
 "nbformat_minor": 2
}
