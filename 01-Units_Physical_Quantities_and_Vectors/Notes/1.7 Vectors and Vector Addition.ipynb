{
 "cells": [
  {
   "cell_type": "markdown",
   "metadata": {},
   "source": [
    "# 1.7 Vectors and Vector Addition"
   ]
  },
  {
   "cell_type": "markdown",
   "metadata": {},
   "source": [
    "- Velocity = <speed, direction>\n",
    "\n",
    "- Force = <force, direction>"
   ]
  },
  {
   "cell_type": "markdown",
   "metadata": {},
   "source": [
    "Physical quantities can be described as\n",
    "\n",
    "- **scalar quantity** = single number\n",
    "\n",
    "    - E.g. 6 kg\n",
    "    \n",
    "\n",
    "- **vector quantity** = <magnitude, direction>"
   ]
  },
  {
   "cell_type": "markdown",
   "metadata": {},
   "source": [
    "**displacement**, the simplest vector quantity, is the change in position of an object\n",
    "\n",
    "- E.g. 3 km north is not the same as 3 km south because the direction is different"
   ]
  },
  {
   "cell_type": "markdown",
   "metadata": {},
   "source": [
    "Vectors are usually denoted with a single letter such as $\\vec{A}$"
   ]
  },
  {
   "cell_type": "markdown",
   "metadata": {},
   "source": [
    "Vectors are drawn as lines with arrowheads at its tip\n",
    "\n",
    "- The length of the line shows the vector's magnitude\n",
    "\n",
    "- The direction of the arrowhead shows the vector's direction"
   ]
  },
  {
   "cell_type": "markdown",
   "metadata": {},
   "source": [
    "Two vectors are **parallel** if they have the same direction\n",
    "\n",
    "Two vectors with the same magnitude and direction are equal, regardless of their starting points\n",
    "\n",
    "- Denoted $\\vec{A'} = \\vec{A}$"
   ]
  },
  {
   "cell_type": "markdown",
   "metadata": {},
   "source": [
    "**negative of a vector** = <magnitude, -direction>"
   ]
  },
  {
   "cell_type": "markdown",
   "metadata": {},
   "source": [
    "Two vectors are **antiparallel** if they have opposite directions"
   ]
  },
  {
   "cell_type": "markdown",
   "metadata": {},
   "source": [
    "## Vector Addition and Subtraction"
   ]
  },
  {
   "cell_type": "markdown",
   "metadata": {},
   "source": [
    "When two displacement vectors $\\vec{A}$ and $\\vec{B}$ are added, it may be represented as a single vector $\\vec{C}$ where $\\vec{C} = \\vec{A} + \\vec{B}$. This vector would be considered as the **vector sum** or **resultant** of displacements $\\vec{A}$ and $\\vec{B}$"
   ]
  }
 ],
 "metadata": {
  "kernelspec": {
   "display_name": "Julia 1.1.0",
   "language": "julia",
   "name": "julia-1.1"
  },
  "language_info": {
   "file_extension": ".jl",
   "mimetype": "application/julia",
   "name": "julia",
   "version": "1.1.0"
  }
 },
 "nbformat": 4,
 "nbformat_minor": 2
}
