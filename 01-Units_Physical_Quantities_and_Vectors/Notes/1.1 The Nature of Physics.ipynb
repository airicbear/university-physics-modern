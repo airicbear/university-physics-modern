{
 "cells": [
  {
   "cell_type": "markdown",
   "metadata": {},
   "source": [
    "# 1.1 The Nature of Physics"
   ]
  },
  {
   "cell_type": "markdown",
   "metadata": {},
   "source": [
    "- **Theory** - An explanation of phenoma based on observation and accepted fundamental principles.\n",
    "\n",
    "    - Example: Biological evolution is a theory based on extensive research and observation\n",
    "\n",
    "\n",
    "- **Range of validity** - Theories are never \"final\" and are only valid to a certain extent\n",
    "\n",
    "    - Example: Galileo's theory that the acceleration of a falling object is independent of its weight applies only to objects for which the force exerted by the air is much less than the weight (e.g. not applicable to light-weight objects such as feathers or parachutes)"
   ]
  }
 ],
 "metadata": {
  "kernelspec": {
   "display_name": "Julia 1.1.0",
   "language": "julia",
   "name": "julia-1.1"
  },
  "language_info": {
   "file_extension": ".jl",
   "mimetype": "application/julia",
   "name": "julia",
   "version": "1.1.0"
  }
 },
 "nbformat": 4,
 "nbformat_minor": 2
}
