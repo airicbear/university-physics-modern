{
 "cells": [
  {
   "cell_type": "markdown",
   "metadata": {},
   "source": [
    "# 1.8 Components of Vectors"
   ]
  },
  {
   "cell_type": "markdown",
   "metadata": {},
   "source": [
    "> \"In Section 1.7 we added vectors by using a scale diagram and properties of right triangles.\n",
    "> Making measurements of a diagram offers only very limited accuracy, and calculations with right triangles work only when the two vectors are perpendicular.\n",
    "> So we need a simple but general method for adding vectors.\n",
    "> This is called the method of components.\""
   ]
  },
  {
   "cell_type": "markdown",
   "metadata": {},
   "source": [
    "<img src=\"../Figures/Figure_1.17.png\">"
   ]
  },
  {
   "cell_type": "code",
   "execution_count": 1,
   "metadata": {},
   "outputs": [
    {
     "data": {
      "text/plain": [
       "(1.575965966453189, -2.552710573602355)"
      ]
     },
     "execution_count": 1,
     "metadata": {},
     "output_type": "execute_result"
    }
   ],
   "source": [
    "# Example 1.6 Finding Components\n",
    "\n",
    "# Find the components of vectors: \n",
    "# - D [magnitude 3.00 m, angle 45°]\n",
    "# - E [magnitude 4.50 m, angle 37.0°]\n",
    "D = 3.00\n",
    "α = 45\n",
    "Dx = D * cos(-α)\n",
    "Dy = D * sin(-α)\n",
    "Dx, Dy"
   ]
  }
 ],
 "metadata": {
  "kernelspec": {
   "display_name": "Julia 1.0.1",
   "language": "julia",
   "name": "julia-1.0"
  },
  "language_info": {
   "file_extension": ".jl",
   "mimetype": "application/julia",
   "name": "julia",
   "version": "1.0.1"
  }
 },
 "nbformat": 4,
 "nbformat_minor": 2
}
