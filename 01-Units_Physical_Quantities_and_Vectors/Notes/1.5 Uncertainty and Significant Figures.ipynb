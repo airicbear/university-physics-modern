{
 "cells": [
  {
   "cell_type": "markdown",
   "metadata": {},
   "source": [
    "# 1.5 Uncertainty and Significant Figures"
   ]
  },
  {
   "cell_type": "markdown",
   "metadata": {},
   "source": [
    "- Measuring the thickness of a book using a ruler will have greater **uncertainty** than say, using a micrometer caliper\n",
    "\n",
    "    - The uncertainty is also called the **error** because it indicates the maximum difference there is likely to be between the measured value and the true value"
   ]
  },
  {
   "cell_type": "markdown",
   "metadata": {},
   "source": [
    "- We often indicate the **accuracy** of a measured value&mdash;that is, how close it is likely to be to the true value\n",
    "\n",
    "    - The symbol &pm; is used to indicate the uncertainty of a measurement\n",
    "    \n",
    "        - E.g. if the diameter of a steel rod is given as 56.47 &pm; 0.02 mm, this means that the true value is likely to be within the range from 56.45 mm to 56.49 mm"
   ]
  },
  {
   "cell_type": "markdown",
   "metadata": {},
   "source": [
    "- We can also express accuracy in terms of the maximum likely **fractional error** or **percent error** (also called *fractional uncertainty* and *percent uncertainty*)\n",
    "\n",
    "    - E.g. 47 ohms &pm; 10% means the range between 42 and 52 ohms"
   ]
  },
  {
   "cell_type": "markdown",
   "metadata": {},
   "source": [
    "- Uncertainty can be indicated by the number of meaningful digits, or **significant figures**, in the measured value\n",
    "\n",
    "    - E.g. a measurement 2.91 mm would have 3 significant figures\n",
    "    \n",
    "    - Note that values with the same number of sig figs may have different uncertainties\n",
    "    \n",
    "        - E.g. a distance 137 km has 3 sig figs, but uncertainty of 1 km&mdash;while a measurement such as 0.250 km would have uncertainty of 0.001 km "
   ]
  },
  {
   "cell_type": "markdown",
   "metadata": {},
   "source": [
    "- **Scientific notation** (powers-of-10 notation) is used for very small or large numbers\n",
    "\n",
    "    - E.g. $384,000,000~\\text{m} = 3.84 \\times 10^8~\\text{m}$"
   ]
  },
  {
   "cell_type": "markdown",
   "metadata": {},
   "source": [
    "- **Precision** is not the same as *accuracy*\n",
    "\n",
    "    - E.g. a digital clock may be precise by providing time in seconds, but may be inaccurate by having wrong minutes"
   ]
  }
 ],
 "metadata": {
  "kernelspec": {
   "display_name": "Julia 1.1.0",
   "language": "julia",
   "name": "julia-1.1"
  },
  "language_info": {
   "file_extension": ".jl",
   "mimetype": "application/julia",
   "name": "julia",
   "version": "1.1.0"
  }
 },
 "nbformat": 4,
 "nbformat_minor": 2
}
